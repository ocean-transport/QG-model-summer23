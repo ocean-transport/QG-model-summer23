{
 "cells": [
  {
   "cell_type": "code",
   "execution_count": 10,
   "id": "8ee5f28f-0789-42f1-baff-e8bf94953555",
   "metadata": {},
   "outputs": [],
   "source": [
    "import numpy as np\n",
    "import xarray as xr\n",
    "import fsspec\n",
    "import matplotlib\n",
    "import matplotlib.pyplot as plt\n",
    "import pyqg \n",
    "import pyqg.diagnostic_tools as tools\n",
    "import seaborn as sns\n",
    "\n",
    "%matplotlib inline"
   ]
  },
  {
   "cell_type": "code",
   "execution_count": 11,
   "id": "ad095468-cd5c-41af-ae5b-7c65fd0cacf0",
   "metadata": {},
   "outputs": [],
   "source": [
    "# Specific for animation\n",
    "# Can be put in a separate script\n",
    "import matplotlib.pyplot as plt\n",
    "import matplotlib\n",
    "import numpy as np\n",
    "import os\n",
    "from PIL import Image\n",
    "from mpl_toolkits.axes_grid1 import make_axes_locatable\n",
    "#import cmocean\n",
    "\n",
    "# Thanks to Pavel for this function :) \n",
    "def create_animation(fun, idx, filename='my-animation.gif', dpi=200, FPS=18, loop=0):\n",
    "    '''\n",
    "    See https://pythonprogramming.altervista.org/png-to-gif/\n",
    "    fun(i) - a function creating one snapshot, has only one input:\n",
    "        - number of frame i\n",
    "    idx - range of frames, i in idx\n",
    "    FPS - frames per second\n",
    "    filename - animation name\n",
    "    dpi - set 300 or so to increase quality\n",
    "    loop - number of repeats of the gif\n",
    "    '''\n",
    "    frames = []\n",
    "    for i in idx:\n",
    "        fun(i)\n",
    "        plt.savefig('.frame.png', dpi=dpi, bbox_inches='tight')\n",
    "        plt.close()\n",
    "        frames.append(Image.open('.frame.png').convert('RGB'))\n",
    "        print(f'Frame {i} is created', end='\\r')\n",
    "    os.system('rm .frame.png')\n",
    "    # How long to persist one frame in milliseconds to have a desired FPS\n",
    "    duration = 1000 / FPS\n",
    "    print(f'Animation at FPS={FPS} will last for {len(idx)/FPS} seconds')\n",
    "    frames[0].save(\n",
    "        filename, format='GIF',\n",
    "        append_images=frames[1:],\n",
    "        save_all=True,\n",
    "        duration=duration,\n",
    "        loop=loop)\n"
   ]
  },
  {
   "cell_type": "code",
   "execution_count": 12,
   "id": "5423788d-6a25-46d5-a8b2-dcea282a833d",
   "metadata": {},
   "outputs": [
    {
     "ename": "RuntimeError",
     "evalue": "Undefined plan with nthreads. This is a bug",
     "output_type": "error",
     "traceback": [
      "\u001b[0;31m---------------------------------------------------------------------------\u001b[0m",
      "\u001b[0;31mRuntimeError\u001b[0m                              Traceback (most recent call last)",
      "\u001b[0;31mRuntimeError\u001b[0m: Undefined plan with nthreads. This is a bug"
     ]
    },
    {
     "name": "stderr",
     "output_type": "stream",
     "text": [
      "Exception ignored in: 'pyfftw.pyfftw._fftw_plan_with_nthreads_null'\n",
      "Traceback (most recent call last):\n",
      "  File \"/srv/conda/envs/notebook/lib/python3.10/site-packages/pyqg/model.py\", line 216, in __init__\n",
      "    PseudoSpectralKernel.__init__(self, nz, ny, nx, ntd,\n",
      "RuntimeError: Undefined plan with nthreads. This is a bug\n"
     ]
    },
    {
     "ename": "RuntimeError",
     "evalue": "Undefined plan with nthreads. This is a bug",
     "output_type": "error",
     "traceback": [
      "\u001b[0;31m---------------------------------------------------------------------------\u001b[0m",
      "\u001b[0;31mRuntimeError\u001b[0m                              Traceback (most recent call last)",
      "\u001b[0;31mRuntimeError\u001b[0m: Undefined plan with nthreads. This is a bug"
     ]
    },
    {
     "name": "stderr",
     "output_type": "stream",
     "text": [
      "Exception ignored in: 'pyfftw.pyfftw._fftw_plan_with_nthreads_null'\n",
      "Traceback (most recent call last):\n",
      "  File \"/srv/conda/envs/notebook/lib/python3.10/site-packages/pyqg/model.py\", line 216, in __init__\n",
      "    PseudoSpectralKernel.__init__(self, nz, ny, nx, ntd,\n",
      "RuntimeError: Undefined plan with nthreads. This is a bug\n"
     ]
    },
    {
     "ename": "RuntimeError",
     "evalue": "Undefined plan with nthreads. This is a bug",
     "output_type": "error",
     "traceback": [
      "\u001b[0;31m---------------------------------------------------------------------------\u001b[0m",
      "\u001b[0;31mRuntimeError\u001b[0m                              Traceback (most recent call last)",
      "\u001b[0;31mRuntimeError\u001b[0m: Undefined plan with nthreads. This is a bug"
     ]
    },
    {
     "name": "stderr",
     "output_type": "stream",
     "text": [
      "Exception ignored in: 'pyfftw.pyfftw._fftw_plan_with_nthreads_null'\n",
      "Traceback (most recent call last):\n",
      "  File \"/srv/conda/envs/notebook/lib/python3.10/site-packages/pyqg/model.py\", line 216, in __init__\n",
      "    PseudoSpectralKernel.__init__(self, nz, ny, nx, ntd,\n",
      "RuntimeError: Undefined plan with nthreads. This is a bug\n"
     ]
    },
    {
     "ename": "RuntimeError",
     "evalue": "Undefined plan with nthreads. This is a bug",
     "output_type": "error",
     "traceback": [
      "\u001b[0;31m---------------------------------------------------------------------------\u001b[0m",
      "\u001b[0;31mRuntimeError\u001b[0m                              Traceback (most recent call last)",
      "\u001b[0;31mRuntimeError\u001b[0m: Undefined plan with nthreads. This is a bug"
     ]
    },
    {
     "name": "stderr",
     "output_type": "stream",
     "text": [
      "Exception ignored in: 'pyfftw.pyfftw._fftw_plan_with_nthreads_null'\n",
      "Traceback (most recent call last):\n",
      "  File \"/srv/conda/envs/notebook/lib/python3.10/site-packages/pyqg/model.py\", line 216, in __init__\n",
      "    PseudoSpectralKernel.__init__(self, nz, ny, nx, ntd,\n",
      "RuntimeError: Undefined plan with nthreads. This is a bug\n"
     ]
    },
    {
     "ename": "RuntimeError",
     "evalue": "Undefined plan with nthreads. This is a bug",
     "output_type": "error",
     "traceback": [
      "\u001b[0;31m---------------------------------------------------------------------------\u001b[0m",
      "\u001b[0;31mRuntimeError\u001b[0m                              Traceback (most recent call last)",
      "\u001b[0;31mRuntimeError\u001b[0m: Undefined plan with nthreads. This is a bug"
     ]
    },
    {
     "name": "stderr",
     "output_type": "stream",
     "text": [
      "Exception ignored in: 'pyfftw.pyfftw._fftw_plan_with_nthreads_null'\n",
      "Traceback (most recent call last):\n",
      "  File \"/srv/conda/envs/notebook/lib/python3.10/site-packages/pyqg/model.py\", line 216, in __init__\n",
      "    PseudoSpectralKernel.__init__(self, nz, ny, nx, ntd,\n",
      "RuntimeError: Undefined plan with nthreads. This is a bug\n"
     ]
    },
    {
     "ename": "RuntimeError",
     "evalue": "Undefined plan with nthreads. This is a bug",
     "output_type": "error",
     "traceback": [
      "\u001b[0;31m---------------------------------------------------------------------------\u001b[0m",
      "\u001b[0;31mRuntimeError\u001b[0m                              Traceback (most recent call last)",
      "\u001b[0;31mRuntimeError\u001b[0m: Undefined plan with nthreads. This is a bug"
     ]
    },
    {
     "name": "stderr",
     "output_type": "stream",
     "text": [
      "Exception ignored in: 'pyfftw.pyfftw._fftw_plan_with_nthreads_null'\n",
      "Traceback (most recent call last):\n",
      "  File \"/srv/conda/envs/notebook/lib/python3.10/site-packages/pyqg/model.py\", line 216, in __init__\n",
      "    PseudoSpectralKernel.__init__(self, nz, ny, nx, ntd,\n",
      "RuntimeError: Undefined plan with nthreads. This is a bug\n"
     ]
    },
    {
     "ename": "RuntimeError",
     "evalue": "Undefined plan with nthreads. This is a bug",
     "output_type": "error",
     "traceback": [
      "\u001b[0;31m---------------------------------------------------------------------------\u001b[0m",
      "\u001b[0;31mRuntimeError\u001b[0m                              Traceback (most recent call last)",
      "\u001b[0;31mRuntimeError\u001b[0m: Undefined plan with nthreads. This is a bug"
     ]
    },
    {
     "name": "stderr",
     "output_type": "stream",
     "text": [
      "Exception ignored in: 'pyfftw.pyfftw._fftw_plan_with_nthreads_null'\n",
      "Traceback (most recent call last):\n",
      "  File \"/srv/conda/envs/notebook/lib/python3.10/site-packages/pyqg/model.py\", line 216, in __init__\n",
      "    PseudoSpectralKernel.__init__(self, nz, ny, nx, ntd,\n",
      "RuntimeError: Undefined plan with nthreads. This is a bug\n"
     ]
    },
    {
     "ename": "RuntimeError",
     "evalue": "Undefined plan with nthreads. This is a bug",
     "output_type": "error",
     "traceback": [
      "\u001b[0;31m---------------------------------------------------------------------------\u001b[0m",
      "\u001b[0;31mRuntimeError\u001b[0m                              Traceback (most recent call last)",
      "\u001b[0;31mRuntimeError\u001b[0m: Undefined plan with nthreads. This is a bug"
     ]
    },
    {
     "name": "stderr",
     "output_type": "stream",
     "text": [
      "Exception ignored in: 'pyfftw.pyfftw._fftw_plan_with_nthreads_null'\n",
      "Traceback (most recent call last):\n",
      "  File \"/srv/conda/envs/notebook/lib/python3.10/site-packages/pyqg/model.py\", line 216, in __init__\n",
      "    PseudoSpectralKernel.__init__(self, nz, ny, nx, ntd,\n",
      "RuntimeError: Undefined plan with nthreads. This is a bug\n",
      "INFO:  Logger initialized\n"
     ]
    }
   ],
   "source": [
    "# a bit more human readable params\n",
    "hour = 60.*60.\n",
    "day = 24.*hour \n",
    "year = 360.*day\n",
    "\n",
    "eddy_model = pyqg.QGModel(nx=64, dt=12*hour, tmax=10*year, tavestart=4*year)"
   ]
  },
  {
   "cell_type": "code",
   "execution_count": 13,
   "id": "4afb7755-8358-4a53-bcb8-d20afacc3310",
   "metadata": {},
   "outputs": [
    {
     "name": "stderr",
     "output_type": "stream",
     "text": [
      "INFO: Step: 1000, Time: 2.70e+06, KE: 4.15e-07, CFL: 0.004\n",
      "INFO: Step: 2000, Time: 5.40e+06, KE: 3.21e-07, CFL: 0.004\n",
      "INFO: Step: 3000, Time: 8.10e+06, KE: 2.54e-07, CFL: 0.004\n",
      "INFO: Step: 4000, Time: 1.08e+07, KE: 2.09e-07, CFL: 0.004\n",
      "INFO: Step: 5000, Time: 1.35e+07, KE: 1.81e-07, CFL: 0.004\n",
      "INFO: Step: 6000, Time: 1.62e+07, KE: 1.66e-07, CFL: 0.004\n",
      "INFO: Step: 7000, Time: 1.89e+07, KE: 1.59e-07, CFL: 0.004\n",
      "INFO: Step: 8000, Time: 2.16e+07, KE: 1.59e-07, CFL: 0.004\n",
      "INFO: Step: 9000, Time: 2.43e+07, KE: 1.64e-07, CFL: 0.004\n",
      "INFO: Step: 10000, Time: 2.70e+07, KE: 1.74e-07, CFL: 0.004\n",
      "INFO: Step: 11000, Time: 2.97e+07, KE: 1.88e-07, CFL: 0.004\n",
      "INFO: Step: 12000, Time: 3.24e+07, KE: 2.06e-07, CFL: 0.004\n",
      "INFO: Step: 13000, Time: 3.51e+07, KE: 2.29e-07, CFL: 0.004\n",
      "INFO: Step: 14000, Time: 3.78e+07, KE: 2.56e-07, CFL: 0.004\n",
      "INFO: Step: 15000, Time: 4.05e+07, KE: 2.90e-07, CFL: 0.004\n",
      "INFO: Step: 16000, Time: 4.32e+07, KE: 3.31e-07, CFL: 0.004\n",
      "INFO: Step: 17000, Time: 4.59e+07, KE: 3.79e-07, CFL: 0.004\n",
      "INFO: Step: 18000, Time: 4.86e+07, KE: 4.35e-07, CFL: 0.004\n",
      "INFO: Step: 19000, Time: 5.13e+07, KE: 5.02e-07, CFL: 0.004\n",
      "INFO: Step: 20000, Time: 5.40e+07, KE: 5.81e-07, CFL: 0.004\n",
      "INFO: Step: 21000, Time: 5.67e+07, KE: 6.75e-07, CFL: 0.004\n",
      "INFO: Step: 22000, Time: 5.94e+07, KE: 7.85e-07, CFL: 0.004\n",
      "INFO: Step: 23000, Time: 6.21e+07, KE: 9.15e-07, CFL: 0.004\n",
      "INFO: Step: 24000, Time: 6.48e+07, KE: 1.07e-06, CFL: 0.004\n",
      "INFO: Step: 25000, Time: 6.75e+07, KE: 1.25e-06, CFL: 0.004\n",
      "INFO: Step: 26000, Time: 7.02e+07, KE: 1.47e-06, CFL: 0.004\n",
      "INFO: Step: 27000, Time: 7.29e+07, KE: 1.72e-06, CFL: 0.004\n",
      "INFO: Step: 28000, Time: 7.56e+07, KE: 2.02e-06, CFL: 0.004\n",
      "INFO: Step: 29000, Time: 7.83e+07, KE: 2.38e-06, CFL: 0.004\n",
      "INFO: Step: 30000, Time: 8.10e+07, KE: 2.80e-06, CFL: 0.004\n",
      "INFO: Step: 31000, Time: 8.37e+07, KE: 3.30e-06, CFL: 0.004\n",
      "INFO: Step: 32000, Time: 8.64e+07, KE: 3.89e-06, CFL: 0.004\n",
      "INFO: Step: 33000, Time: 8.91e+07, KE: 4.60e-06, CFL: 0.004\n",
      "INFO: Step: 34000, Time: 9.18e+07, KE: 5.43e-06, CFL: 0.004\n",
      "INFO: Step: 35000, Time: 9.45e+07, KE: 6.42e-06, CFL: 0.004\n",
      "INFO: Step: 36000, Time: 9.72e+07, KE: 7.59e-06, CFL: 0.004\n",
      "INFO: Step: 37000, Time: 9.99e+07, KE: 8.98e-06, CFL: 0.005\n",
      "INFO: Step: 38000, Time: 1.03e+08, KE: 1.06e-05, CFL: 0.005\n",
      "INFO: Step: 39000, Time: 1.05e+08, KE: 1.26e-05, CFL: 0.005\n",
      "INFO: Step: 40000, Time: 1.08e+08, KE: 1.50e-05, CFL: 0.006\n",
      "INFO: Step: 41000, Time: 1.11e+08, KE: 1.77e-05, CFL: 0.006\n",
      "INFO: Step: 42000, Time: 1.13e+08, KE: 2.11e-05, CFL: 0.007\n",
      "INFO: Step: 43000, Time: 1.16e+08, KE: 2.50e-05, CFL: 0.008\n",
      "INFO: Step: 44000, Time: 1.19e+08, KE: 2.97e-05, CFL: 0.009\n",
      "INFO: Step: 45000, Time: 1.22e+08, KE: 3.54e-05, CFL: 0.010\n",
      "INFO: Step: 46000, Time: 1.24e+08, KE: 4.21e-05, CFL: 0.011\n",
      "INFO: Step: 47000, Time: 1.27e+08, KE: 5.01e-05, CFL: 0.012\n",
      "INFO: Step: 48000, Time: 1.30e+08, KE: 5.97e-05, CFL: 0.013\n",
      "INFO: Step: 49000, Time: 1.32e+08, KE: 7.09e-05, CFL: 0.014\n",
      "INFO: Step: 50000, Time: 1.35e+08, KE: 8.31e-05, CFL: 0.018\n",
      "INFO: Step: 51000, Time: 1.38e+08, KE: 9.29e-05, CFL: 0.020\n",
      "INFO: Step: 52000, Time: 1.40e+08, KE: 9.69e-05, CFL: 0.023\n",
      "INFO: Step: 53000, Time: 1.43e+08, KE: 9.62e-05, CFL: 0.022\n",
      "INFO: Step: 54000, Time: 1.46e+08, KE: 9.38e-05, CFL: 0.020\n",
      "INFO: Step: 55000, Time: 1.48e+08, KE: 8.98e-05, CFL: 0.021\n",
      "INFO: Step: 56000, Time: 1.51e+08, KE: 8.53e-05, CFL: 0.020\n",
      "INFO: Step: 57000, Time: 1.54e+08, KE: 8.18e-05, CFL: 0.018\n",
      "INFO: Step: 58000, Time: 1.57e+08, KE: 7.92e-05, CFL: 0.022\n",
      "INFO: Step: 59000, Time: 1.59e+08, KE: 7.69e-05, CFL: 0.020\n",
      "INFO: Step: 60000, Time: 1.62e+08, KE: 7.65e-05, CFL: 0.021\n",
      "INFO: Step: 61000, Time: 1.65e+08, KE: 7.76e-05, CFL: 0.020\n",
      "INFO: Step: 62000, Time: 1.67e+08, KE: 7.94e-05, CFL: 0.021\n",
      "INFO: Step: 63000, Time: 1.70e+08, KE: 8.08e-05, CFL: 0.020\n",
      "INFO: Step: 64000, Time: 1.73e+08, KE: 8.44e-05, CFL: 0.021\n",
      "INFO: Step: 65000, Time: 1.76e+08, KE: 8.90e-05, CFL: 0.023\n",
      "INFO: Step: 66000, Time: 1.78e+08, KE: 9.28e-05, CFL: 0.025\n",
      "INFO: Step: 67000, Time: 1.81e+08, KE: 9.42e-05, CFL: 0.024\n",
      "INFO: Step: 68000, Time: 1.84e+08, KE: 9.45e-05, CFL: 0.022\n",
      "INFO: Step: 69000, Time: 1.86e+08, KE: 9.35e-05, CFL: 0.023\n",
      "INFO: Step: 70000, Time: 1.89e+08, KE: 9.42e-05, CFL: 0.023\n",
      "INFO: Step: 71000, Time: 1.92e+08, KE: 9.68e-05, CFL: 0.022\n",
      "INFO: Step: 72000, Time: 1.94e+08, KE: 1.00e-04, CFL: 0.021\n",
      "INFO: Step: 73000, Time: 1.97e+08, KE: 1.05e-04, CFL: 0.022\n",
      "INFO: Step: 74000, Time: 2.00e+08, KE: 1.09e-04, CFL: 0.023\n",
      "INFO: Step: 75000, Time: 2.02e+08, KE: 1.15e-04, CFL: 0.029\n",
      "INFO: Step: 76000, Time: 2.05e+08, KE: 1.21e-04, CFL: 0.028\n",
      "INFO: Step: 77000, Time: 2.08e+08, KE: 1.26e-04, CFL: 0.027\n",
      "INFO: Step: 78000, Time: 2.11e+08, KE: 1.26e-04, CFL: 0.026\n",
      "INFO: Step: 79000, Time: 2.13e+08, KE: 1.27e-04, CFL: 0.027\n",
      "INFO: Step: 80000, Time: 2.16e+08, KE: 1.26e-04, CFL: 0.029\n",
      "INFO: Step: 81000, Time: 2.19e+08, KE: 1.29e-04, CFL: 0.027\n",
      "INFO: Step: 82000, Time: 2.21e+08, KE: 1.32e-04, CFL: 0.026\n",
      "INFO: Step: 83000, Time: 2.24e+08, KE: 1.32e-04, CFL: 0.028\n",
      "INFO: Step: 84000, Time: 2.27e+08, KE: 1.29e-04, CFL: 0.027\n",
      "INFO: Step: 85000, Time: 2.30e+08, KE: 1.29e-04, CFL: 0.027\n",
      "INFO: Step: 86000, Time: 2.32e+08, KE: 1.28e-04, CFL: 0.025\n",
      "INFO: Step: 87000, Time: 2.35e+08, KE: 1.24e-04, CFL: 0.025\n",
      "INFO: Step: 88000, Time: 2.38e+08, KE: 1.20e-04, CFL: 0.025\n",
      "INFO: Step: 89000, Time: 2.40e+08, KE: 1.16e-04, CFL: 0.023\n",
      "INFO: Step: 90000, Time: 2.43e+08, KE: 1.15e-04, CFL: 0.022\n",
      "INFO: Step: 91000, Time: 2.46e+08, KE: 1.16e-04, CFL: 0.024\n",
      "INFO: Step: 92000, Time: 2.48e+08, KE: 1.15e-04, CFL: 0.026\n",
      "INFO: Step: 93000, Time: 2.51e+08, KE: 1.11e-04, CFL: 0.026\n",
      "INFO: Step: 94000, Time: 2.54e+08, KE: 1.08e-04, CFL: 0.028\n",
      "INFO: Step: 95000, Time: 2.56e+08, KE: 1.08e-04, CFL: 0.027\n",
      "INFO: Step: 96000, Time: 2.59e+08, KE: 1.11e-04, CFL: 0.025\n",
      "INFO: Step: 97000, Time: 2.62e+08, KE: 1.15e-04, CFL: 0.022\n",
      "INFO: Step: 98000, Time: 2.65e+08, KE: 1.23e-04, CFL: 0.026\n",
      "INFO: Step: 99000, Time: 2.67e+08, KE: 1.29e-04, CFL: 0.026\n",
      "INFO: Step: 100000, Time: 2.70e+08, KE: 1.31e-04, CFL: 0.025\n",
      "INFO: Step: 101000, Time: 2.73e+08, KE: 1.31e-04, CFL: 0.022\n",
      "INFO: Step: 102000, Time: 2.75e+08, KE: 1.31e-04, CFL: 0.023\n",
      "INFO: Step: 103000, Time: 2.78e+08, KE: 1.27e-04, CFL: 0.027\n",
      "INFO: Step: 104000, Time: 2.81e+08, KE: 1.23e-04, CFL: 0.024\n",
      "INFO: Step: 105000, Time: 2.84e+08, KE: 1.18e-04, CFL: 0.024\n",
      "INFO: Step: 106000, Time: 2.86e+08, KE: 1.17e-04, CFL: 0.031\n",
      "INFO: Step: 107000, Time: 2.89e+08, KE: 1.17e-04, CFL: 0.023\n",
      "INFO: Step: 108000, Time: 2.92e+08, KE: 1.19e-04, CFL: 0.028\n",
      "INFO: Step: 109000, Time: 2.94e+08, KE: 1.19e-04, CFL: 0.025\n",
      "INFO: Step: 110000, Time: 2.97e+08, KE: 1.19e-04, CFL: 0.022\n",
      "INFO: Step: 111000, Time: 3.00e+08, KE: 1.20e-04, CFL: 0.024\n",
      "INFO: Step: 112000, Time: 3.02e+08, KE: 1.19e-04, CFL: 0.025\n",
      "INFO: Step: 113000, Time: 3.05e+08, KE: 1.18e-04, CFL: 0.028\n",
      "INFO: Step: 114000, Time: 3.08e+08, KE: 1.19e-04, CFL: 0.026\n",
      "INFO: Step: 115000, Time: 3.10e+08, KE: 1.19e-04, CFL: 0.026\n"
     ]
    }
   ],
   "source": [
    "def generate_snapshots(model):\n",
    "    snapshots = []\n",
    "    snapshots.append(model.to_dataset())\n",
    "    for _ in model.run_with_snapshots(tsnapint=5*day): # you can choose whatever frequency you want here. \n",
    "        snapshots.append(model.to_dataset())\n",
    "    return xr.concat(snapshots, dim='time')\n",
    "\n",
    "eddy_high_res = generate_snapshots(eddy_model) # Can save this dataset to zarr for later use."
   ]
  },
  {
   "cell_type": "code",
   "execution_count": 14,
   "id": "7918f3ea-0905-49c5-bf5e-7eb3c1f79230",
   "metadata": {},
   "outputs": [],
   "source": [
    "def plot_fun(idT): \n",
    "    eddy_high_res.q.isel(time=idT).isel(lev=0).plot(vmin=-3e-5)\n",
    "    plt.title(str(eddy_high_res.time.isel(time=idT).values/day)+' days')"
   ]
  },
  {
   "cell_type": "code",
   "execution_count": 15,
   "id": "af4f31e4-f82f-4e9b-9d4b-e121af7cbad3",
   "metadata": {},
   "outputs": [
    {
     "data": {
      "image/png": "[encoded data removed]",
      "text/plain": [
       "<Figure size 640x480 with 2 Axes>"
      ]
     },
     "metadata": {},
     "output_type": "display_data"
    }
   ],
   "source": [
    "plot_fun(200)"
   ]
  },
  {
   "cell_type": "code",
   "execution_count": 16,
   "id": "193747dd-ef4b-4983-9aba-da591beba890",
   "metadata": {},
   "outputs": [
    {
     "name": "stdout",
     "output_type": "stream",
     "text": [
      "Animation at FPS=18 will last for 20.055555555555557 seconds\n"
     ]
    }
   ],
   "source": [
    "create_animation(plot_fun, range(0, 361), 'eddy_PVmov.gif', dpi=100)"
   ]
  },
  {
   "cell_type": "code",
   "execution_count": null,
   "id": "54d5bd07-6933-481b-8541-b127a17677df",
   "metadata": {},
   "outputs": [],
   "source": []
  }
 ],
 "metadata": {
  "kernelspec": {
   "display_name": "Python 3 (ipykernel)",
   "language": "python",
   "name": "python3"
  },
  "language_info": {
   "codemirror_mode": {
    "name": "ipython",
    "version": 3
   },
   "file_extension": ".py",
   "mimetype": "text/x-python",
   "name": "python",
   "nbconvert_exporter": "python",
   "pygments_lexer": "ipython3",
   "version": "3.10.9"
  }
 },
 "nbformat": 4,
 "nbformat_minor": 5
}
